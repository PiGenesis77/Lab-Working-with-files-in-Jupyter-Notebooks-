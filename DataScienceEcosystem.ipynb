{
 "cells": [
  {
   "cell_type": "markdown",
   "id": "dd6f3332",
   "metadata": {},
   "source": [
    "<html>\n",
    "    <h1> Data Science Tools and Ecosystem </h1>\n",
    "</html>"
   ]
  },
  {
   "cell_type": "markdown",
   "id": "6c57db2a",
   "metadata": {},
   "source": [
    "<html>\n",
    "    <h3> In this notebook, Data Science Tools and Ecosystem are summarized. </h3>\n",
    "</html>"
   ]
  },
  {
   "cell_type": "markdown",
   "id": "0d1e6876",
   "metadata": {},
   "source": [
    "<html>\n",
    "    <h3> <b> Objectives: </b> </h3>\n",
    "    <ul>\n",
    "        <li> List popular languages for Data Science </li>\n",
    "        <li> List commonly used libraries used by Data Scientists </li>\n",
    "        <li> Few examples of evaluating arithmetic expressions in Python </li>    \n",
    "    </ul>\n",
    "</html>"
   ]
  },
  {
   "cell_type": "markdown",
   "id": "255bc355",
   "metadata": {},
   "source": []
  },
  {
   "cell_type": "markdown",
   "id": "817bf50c",
   "metadata": {},
   "source": [
    "<html>\n",
    "    <h4> Some of the popular languages that Data Scientists use are: </h4>\n",
    "    <ol> \n",
    "        <li> Python </li>\n",
    "        <li> R  </li>\n",
    "        <li> SQL </li>\n",
    "        <li> PySpark  </li>\n",
    "    </ol>\n",
    "</html>"
   ]
  },
  {
   "cell_type": "markdown",
   "id": "be8e4586",
   "metadata": {},
   "source": [
    "<html>\n",
    "    <h4> Some of the commonly used libraries used by Data Scientists include: </h4>\n",
    "    <ol> \n",
    "        <li> Numpy </li>\n",
    "        <li> Pandas  </li>\n",
    "        <li> Sklearn </li>\n",
    "        <li> Tensorflow  </li>\n",
    "        <li> Keras  </li>\n",
    "    </ol>\n",
    "</html>"
   ]
  },
  {
   "cell_type": "markdown",
   "id": "501e067f",
   "metadata": {},
   "source": [
    "<html>\n",
    "    <table>\n",
    "        <tr><td> Data Science Tools </td></tr>\n",
    "        <tr><td> RStudio </td></tr>\n",
    "        <tr><td> Apache Spark </td></tr>\n",
    "        <tr><td> TensorFlow </td></tr>\n",
    "    </table>\n",
    "</html>"
   ]
  },
  {
   "cell_type": "markdown",
   "id": "46123eac",
   "metadata": {},
   "source": [
    "<html>\n",
    "    <h3> Below are a few examples of evaluating arithmetic expressions in Python </h3>\n",
    "</html>"
   ]
  },
  {
   "cell_type": "code",
   "execution_count": 1,
   "id": "21451663",
   "metadata": {},
   "outputs": [
    {
     "data": {
      "text/plain": [
       "17"
      ]
     },
     "execution_count": 1,
     "metadata": {},
     "output_type": "execute_result"
    }
   ],
   "source": [
    "### This a simple arithmetic expression to mutiply then add integers\n",
    "(3*4)+5"
   ]
  },
  {
   "cell_type": "code",
   "execution_count": 2,
   "id": "29fa9aea",
   "metadata": {},
   "outputs": [
    {
     "data": {
      "text/plain": [
       "3.3333333333333335"
      ]
     },
     "execution_count": 2,
     "metadata": {},
     "output_type": "execute_result"
    }
   ],
   "source": [
    "### This will convert 200 minutes to hours by diving by 60\n",
    "200/60"
   ]
  },
  {
   "cell_type": "markdown",
   "id": "b4d1ce80",
   "metadata": {},
   "source": [
    "<html>\n",
    "    <h3> Author : Patrick MAIRLOT-MBEZELE </h3>\n",
    "</html>"
   ]
  }
 ],
 "metadata": {
  "kernelspec": {
   "display_name": "Python 3 (ipykernel)",
   "language": "python",
   "name": "python3"
  },
  "language_info": {
   "codemirror_mode": {
    "name": "ipython",
    "version": 3
   },
   "file_extension": ".py",
   "mimetype": "text/x-python",
   "name": "python",
   "nbconvert_exporter": "python",
   "pygments_lexer": "ipython3",
   "version": "3.10.13"
  }
 },
 "nbformat": 4,
 "nbformat_minor": 5
}
